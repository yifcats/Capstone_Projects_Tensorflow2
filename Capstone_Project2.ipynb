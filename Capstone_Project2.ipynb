{
  "cells": [
    {
      "cell_type": "markdown",
      "metadata": {
        "id": "view-in-github",
        "colab_type": "text"
      },
      "source": [
        "<a href=\"https://colab.research.google.com/github/yifcats/Capstone_Projects_Tensorflow2/blob/main/Capstone_Project2.ipynb\" target=\"_parent\"><img src=\"https://colab.research.google.com/assets/colab-badge.svg\" alt=\"Open In Colab\"/></a>"
      ]
    },
    {
      "cell_type": "markdown",
      "metadata": {
        "id": "zyEUux5ahOSY"
      },
      "source": [
        "# Capstone Project\n",
        "## Neural translation model\n",
        "### Instructions\n",
        "\n",
        "In this notebook, you will create a neural network that translates from English to German. You will use concepts from throughout this course, including building more flexible model architectures, freezing layers, data processing pipeline and sequence modelling.\n",
        "\n",
        "This project is peer-assessed. Within this notebook you will find instructions in each section for how to complete the project. Pay close attention to the instructions as the peer review will be carried out according to a grading rubric that checks key parts of the project instructions. Feel free to add extra cells into the notebook as required.\n",
        "\n",
        "### How to submit\n",
        "\n",
        "When you have completed the Capstone project notebook, you will submit a pdf of the notebook for peer review. First ensure that the notebook has been fully executed from beginning to end, and all of the cell outputs are visible. This is important, as the grading rubric depends on the reviewer being able to view the outputs of your notebook. Save the notebook as a pdf (File -> Download as -> PDF via LaTeX). You should then submit this pdf for review.\n",
        "\n",
        "### Let's get started!\n",
        "\n",
        "We'll start by running some imports, and loading the dataset. For this project you are free to make further imports throughout the notebook as you wish."
      ]
    },
    {
      "cell_type": "code",
      "execution_count": 5,
      "metadata": {
        "id": "UiSNv9dqhOSZ"
      },
      "outputs": [],
      "source": [
        "import tensorflow as tf\n",
        "import tensorflow_hub as hub\n",
        "import unicodedata\n",
        "import re\n",
        "import numpy as np\n",
        "\n",
        "from keras_preprocessing.sequence import pad_sequences\n",
        "from sklearn.model_selection import train_test_split"
      ]
    },
    {
      "cell_type": "code",
      "source": [
        "from google.colab import drive\n",
        "drive.mount('/content/drive')"
      ],
      "metadata": {
        "colab": {
          "base_uri": "https://localhost:8080/"
        },
        "id": "oJuZKe0arOMn",
        "outputId": "0f6bcad0-db4f-4cd2-b81e-126069f9907d"
      },
      "execution_count": 7,
      "outputs": [
        {
          "output_type": "stream",
          "name": "stdout",
          "text": [
            "Mounted at /content/drive\n"
          ]
        }
      ]
    },
    {
      "cell_type": "markdown",
      "metadata": {
        "id": "pkAsij1ShOSa"
      },
      "source": [
        "![Flags overview image](data/germany_uk_flags.png)\n",
        "\n",
        "For the capstone project, you will use a language dataset from http://www.manythings.org/anki/ to build a neural translation model. This dataset consists of over 200,000 pairs of sentences in English and German. In order to make the training quicker, we will restrict to our dataset to 20,000 pairs. Feel free to change this if you wish - the size of the dataset used is not part of the grading rubric.\n",
        "\n",
        "Your goal is to develop a neural translation model from English to German, making use of a pre-trained English word embedding module."
      ]
    },
    {
      "cell_type": "code",
      "execution_count": 6,
      "metadata": {
        "id": "GeWDJsiyhOSa",
        "colab": {
          "base_uri": "https://localhost:8080/",
          "height": 211
        },
        "outputId": "3fe1aab1-83f0-4aaa-9401-c331ee5c4eaf"
      },
      "outputs": [
        {
          "output_type": "error",
          "ename": "FileNotFoundError",
          "evalue": "[Errno 2] No such file or directory: '/content/drive/MyDrive/Colab Notebooks/data/deu.txt'",
          "traceback": [
            "\u001b[0;31m---------------------------------------------------------------------------\u001b[0m",
            "\u001b[0;31mFileNotFoundError\u001b[0m                         Traceback (most recent call last)",
            "\u001b[0;32m<ipython-input-6-5e2cd861745c>\u001b[0m in \u001b[0;36m<cell line: 5>\u001b[0;34m()\u001b[0m\n\u001b[1;32m      3\u001b[0m \u001b[0mNUM_EXAMPLES\u001b[0m \u001b[0;34m=\u001b[0m \u001b[0;36m20000\u001b[0m\u001b[0;34m\u001b[0m\u001b[0;34m\u001b[0m\u001b[0m\n\u001b[1;32m      4\u001b[0m \u001b[0mdata_examples\u001b[0m \u001b[0;34m=\u001b[0m \u001b[0;34m[\u001b[0m\u001b[0;34m]\u001b[0m\u001b[0;34m\u001b[0m\u001b[0;34m\u001b[0m\u001b[0m\n\u001b[0;32m----> 5\u001b[0;31m \u001b[0;32mwith\u001b[0m \u001b[0mopen\u001b[0m\u001b[0;34m(\u001b[0m\u001b[0;34m'/content/drive/MyDrive/Colab Notebooks/data/deu.txt'\u001b[0m\u001b[0;34m,\u001b[0m \u001b[0;34m'r'\u001b[0m\u001b[0;34m,\u001b[0m \u001b[0mencoding\u001b[0m\u001b[0;34m=\u001b[0m\u001b[0;34m'utf8'\u001b[0m\u001b[0;34m)\u001b[0m \u001b[0;32mas\u001b[0m \u001b[0mf\u001b[0m\u001b[0;34m:\u001b[0m\u001b[0;34m\u001b[0m\u001b[0;34m\u001b[0m\u001b[0m\n\u001b[0m\u001b[1;32m      6\u001b[0m     \u001b[0;32mfor\u001b[0m \u001b[0mline\u001b[0m \u001b[0;32min\u001b[0m \u001b[0mf\u001b[0m\u001b[0;34m.\u001b[0m\u001b[0mreadlines\u001b[0m\u001b[0;34m(\u001b[0m\u001b[0;34m)\u001b[0m\u001b[0;34m:\u001b[0m\u001b[0;34m\u001b[0m\u001b[0;34m\u001b[0m\u001b[0m\n\u001b[1;32m      7\u001b[0m         \u001b[0;32mif\u001b[0m \u001b[0mlen\u001b[0m\u001b[0;34m(\u001b[0m\u001b[0mdata_examples\u001b[0m\u001b[0;34m)\u001b[0m \u001b[0;34m<\u001b[0m \u001b[0mNUM_EXAMPLES\u001b[0m\u001b[0;34m:\u001b[0m\u001b[0;34m\u001b[0m\u001b[0;34m\u001b[0m\u001b[0m\n",
            "\u001b[0;31mFileNotFoundError\u001b[0m: [Errno 2] No such file or directory: '/content/drive/MyDrive/Colab Notebooks/data/deu.txt'"
          ]
        }
      ],
      "source": [
        "# Run this cell to load the dataset\n",
        "\n",
        "NUM_EXAMPLES = 20000\n",
        "data_examples = []\n",
        "with open('/content/drive/MyDrive/Colab Notebooks/data/deu.txt', 'r', encoding='utf8') as f:\n",
        "    for line in f.readlines():\n",
        "        if len(data_examples) < NUM_EXAMPLES:\n",
        "            data_examples.append(line)\n",
        "        else:\n",
        "            break"
      ]
    },
    {
      "cell_type": "code",
      "execution_count": null,
      "metadata": {
        "id": "Aw9sMSTuhOSb"
      },
      "outputs": [],
      "source": [
        "# These functions preprocess English and German sentences\n",
        "\n",
        "def unicode_to_ascii(s):\n",
        "    return ''.join(c for c in unicodedata.normalize('NFD', s) if unicodedata.category(c) != 'Mn')\n",
        "\n",
        "def preprocess_sentence(sentence):\n",
        "    sentence = sentence.lower().strip()\n",
        "    sentence = re.sub(r\"ü\", 'ue', sentence)\n",
        "    sentence = re.sub(r\"ä\", 'ae', sentence)\n",
        "    sentence = re.sub(r\"ö\", 'oe', sentence)\n",
        "    sentence = re.sub(r'ß', 'ss', sentence)\n",
        "\n",
        "    sentence = unicode_to_ascii(sentence)\n",
        "    sentence = re.sub(r\"([?.!,])\", r\" \\1 \", sentence)\n",
        "    sentence = re.sub(r\"[^a-z?.!,']+\", \" \", sentence)\n",
        "    sentence = re.sub(r'[\" \"]+', \" \", sentence)\n",
        "\n",
        "    return sentence.strip()"
      ]
    },
    {
      "cell_type": "markdown",
      "metadata": {
        "id": "mquYG2lMhOSb"
      },
      "source": [
        "#### The custom translation model\n",
        "The following is a schematic of the custom translation model architecture you will develop in this project.\n",
        "\n",
        "![Model Schematic](data/neural_translation_model.png)\n",
        "\n",
        "Key:\n",
        "![Model key](data/neural_translation_model_key.png)\n",
        "\n",
        "The custom model consists of an encoder RNN and a decoder RNN. The encoder takes words of an English sentence as input, and uses a pre-trained word embedding to embed the words into a 128-dimensional space. To indicate the end of the input sentence, a special end token (in the same 128-dimensional space) is passed in as an input. This token is a TensorFlow Variable that is learned in the training phase (unlike the pre-trained word embedding, which is frozen).\n",
        "\n",
        "The decoder RNN takes the internal state of the encoder network as its initial state. A start token is passed in as the first input, which is embedded using a learned German word embedding. The decoder RNN then makes a prediction for the next German word, which during inference is then passed in as the following input, and this process is repeated until the special `<end>` token is emitted from the decoder."
      ]
    },
    {
      "cell_type": "markdown",
      "metadata": {
        "id": "6HQn8M2nhOSb"
      },
      "source": [
        "## 1. Text preprocessing\n",
        "* Create separate lists of English and German sentences, and preprocess them using the `preprocess_sentence` function provided for you above.\n",
        "* Add a special `\"<start>\"` and `\"<end>\"` token to the beginning and end of every German sentence.\n",
        "* Use the Tokenizer class from the `tf.keras.preprocessing.text` module to tokenize the German sentences, ensuring that no character filters are applied. _Hint: use the Tokenizer's \"filter\" keyword argument._\n",
        "* Print out at least 5 randomly chosen examples of (preprocessed) English and German sentence pairs. For the German sentence, print out the text (with start and end tokens) as well as the tokenized sequence.\n",
        "* Pad the end of the tokenized German sequences with zeros, and batch the complete set of sequences into one numpy array."
      ]
    },
    {
      "cell_type": "code",
      "execution_count": null,
      "metadata": {
        "scrolled": true,
        "id": "HVnqZOychOSc"
      },
      "outputs": [],
      "source": [
        "# Spliting into english and german sentences\n",
        "english_examples =[data.split('\\t')[0] for data in data_examples]\n",
        "german_examples  =[data.split('\\t')[1] for data in data_examples]"
      ]
    },
    {
      "cell_type": "code",
      "execution_count": null,
      "metadata": {
        "id": "jYT_yP5thOSc"
      },
      "outputs": [],
      "source": [
        "# Applying the pre processing sentence function\n",
        "processed_english = [preprocess_sentence(eng_data) for eng_data in english_examples]\n",
        "processed_german = [preprocess_sentence(ger_data) for ger_data in german_examples]"
      ]
    },
    {
      "cell_type": "code",
      "execution_count": null,
      "metadata": {
        "id": "1J_1q4AXhOSc"
      },
      "outputs": [],
      "source": [
        "processed_german = [\"<start> \"+ sentence + \" <end>\" for sentence in processed_german]"
      ]
    },
    {
      "cell_type": "code",
      "execution_count": null,
      "metadata": {
        "id": "J7VjQPJ8hOSd"
      },
      "outputs": [],
      "source": [
        "# Token\n",
        "def create_tokenizer(list_of_strings):\n",
        "\n",
        "    tokenization = tf.keras.preprocessing.text.Tokenizer(num_words=None,filters = '',lower=False,char_level=False)\n",
        "    tokenization.fit_on_texts(list_of_strings)\n",
        "\n",
        "    return tokenization\n",
        "\n",
        "\n",
        "# Tokenizing the text\n",
        "def create_sequence(tokenizer, list_of_strings):\n",
        "\n",
        "    sentence_seq = tokenizer.texts_to_sequences(list_of_strings)\n",
        "    return sentence_seq"
      ]
    },
    {
      "cell_type": "code",
      "execution_count": null,
      "metadata": {
        "id": "rPrlyfBThOSd"
      },
      "outputs": [],
      "source": [
        "tokenizer = create_tokenizer(processed_german)\n",
        "seq_german = create_sequence(tokenizer, processed_german)"
      ]
    },
    {
      "cell_type": "code",
      "execution_count": null,
      "metadata": {
        "id": "u4I-CBxahOSd"
      },
      "outputs": [],
      "source": [
        "num_samples = 5\n",
        "inx = np.random.choice(len(processed_german), num_samples, replace=False)\n",
        "\n",
        "\n",
        "print(\"\\n English Processed Data \\n\")\n",
        "for i in inx:\n",
        "    print(processed_english[i])\n",
        "\n",
        "print(\"\\n German Processed Data and Seqeunce \\n\")\n",
        "for i in inx:\n",
        "    print(processed_german[i], seq_german[i])"
      ]
    },
    {
      "cell_type": "code",
      "execution_count": null,
      "metadata": {
        "id": "VEXmt5jehOSe"
      },
      "outputs": [],
      "source": [
        "# Padding german seqeunce:\n",
        "\n",
        "def make_padded_dataset(seq_sentence):\n",
        "    pad_seq = pad_sequences(seq_sentence,maxlen=None,padding='post',value=0)\n",
        "    return pad_seq\n",
        "\n",
        "pad_seq_german = make_padded_dataset(seq_german)"
      ]
    },
    {
      "cell_type": "markdown",
      "metadata": {
        "id": "upcFs7zMhOSe"
      },
      "source": [
        "## 2. Prepare the data with tf.data.Dataset objects"
      ]
    },
    {
      "cell_type": "markdown",
      "metadata": {
        "id": "8wRMiazjhOSe"
      },
      "source": [
        "#### Load the embedding layer\n",
        "As part of the dataset preproceessing for this project, you will use a pre-trained English word embedding module from TensorFlow Hub. The URL for the module is https://tfhub.dev/google/tf2-preview/nnlm-en-dim128-with-normalization/1. This module has also been made available as a complete saved model in the folder `'./models/tf2-preview_nnlm-en-dim128_1'`.\n",
        "\n",
        "This embedding takes a batch of text tokens in a 1-D tensor of strings as input. It then embeds the separate tokens into a 128-dimensional space.\n",
        "\n",
        "The code to load and test the embedding layer is provided for you below.\n",
        "\n",
        "**NB:** this model can also be used as a sentence embedding module. The module will process each token by removing punctuation and splitting on spaces. It then averages the word embeddings over a sentence to give a single embedding vector. However, we will use it only as a word embedding module, and will pass each word in the input sentence as a separate token."
      ]
    },
    {
      "cell_type": "code",
      "execution_count": null,
      "metadata": {
        "id": "qVIOJKkehOSe"
      },
      "outputs": [],
      "source": [
        "# Load embedding module from Tensorflow Hub\n",
        "\n",
        "embedding_layer = hub.KerasLayer('/content/drive/MyDrive/Colab Notebooks/models/tf2-preview_nnlm-en-dim128_1',\n",
        "                                 output_shape=[128], input_shape=[], dtype=tf.string)"
      ]
    },
    {
      "cell_type": "code",
      "execution_count": null,
      "metadata": {
        "id": "1dDR0yPrhOSe"
      },
      "outputs": [],
      "source": [
        "# Test the layer\n",
        "\n",
        "embedding_layer(tf.constant([\"these\", \"aren't\", \"the\", \"droids\", \"you're\", \"looking\", \"for\"])).shape"
      ]
    },
    {
      "cell_type": "markdown",
      "metadata": {
        "id": "Hm0cP1RphOSe"
      },
      "source": [
        "You should now prepare the training and validation Datasets.\n",
        "\n",
        "* Create a random training and validation set split of the data, reserving e.g. 20% of the data for validation (NB: each English dataset example is a single sentence string, and each German dataset example is a sequence of padded integer tokens).\n",
        "* Load the training and validation sets into a tf.data.Dataset object, passing in a tuple of English and German data for both training and validation sets.\n",
        "* Create a function to map over the datasets that splits each English sentence at spaces. Apply this function to both Dataset objects using the map method. _Hint: look at the tf.strings.split function._\n",
        "* Create a function to map over the datasets that embeds each sequence of English words using the loaded embedding layer/model. Apply this function to both Dataset objects using the map method.\n",
        "* Create a function to filter out dataset examples where the English sentence is more than 13 (embedded) tokens in length. Apply this function to both Dataset objects using the filter method.\n",
        "* Create a function to map over the datasets that pads each English sequence of embeddings with some distinct padding value before the sequence, so that each sequence is length 13. Apply this function to both Dataset objects using the map method. _Hint: look at the tf.pad function. You can extract a Tensor shape using tf.shape; you might also find the tf.math.maximum function useful._\n",
        "* Batch both training and validation Datasets with a batch size of 16.\n",
        "* Print the `element_spec` property for the training and validation Datasets.\n",
        "* Using the Dataset `.take(1)` method, print the shape of the English data example from the training Dataset.\n",
        "* Using the Dataset `.take(1)` method, print the German data example Tensor from the validation Dataset."
      ]
    },
    {
      "cell_type": "code",
      "execution_count": null,
      "metadata": {
        "id": "VeGHvyQnhOSe"
      },
      "outputs": [],
      "source": [
        "# spliting train and validation\n",
        "train_data, val_data, train_labels, val_labels = train_test_split(processed_english, pad_seq_german,\n",
        "                                                                  test_size=0.2)"
      ]
    },
    {
      "cell_type": "code",
      "execution_count": null,
      "metadata": {
        "id": "4oEvYVx4hOSe"
      },
      "outputs": [],
      "source": [
        "# creating training and validation datasets\n",
        "def make_Dataset(input_array, target_array):\n",
        "    dataset = tf.data.Dataset.from_tensor_slices((input_array,target_array))\n",
        "    return dataset\n",
        "\n",
        "def split_sentence(x,y):\n",
        "    x = tf.strings.split(x,sep=None, maxsplit=-1, name=None)\n",
        "    return x , y\n",
        "\n",
        "def embeds_sentence(x,y):\n",
        "    x = embedding_layer(x)\n",
        "    return x,y\n",
        "\n",
        "def fliter_max_length(x,y):\n",
        "    mask = tf.math.less(tf.cast(tf.shape(x)[0],dtype=tf.int32), 13)\n",
        "    return mask\n",
        "\n",
        "def padding(x,y):\n",
        "    paddings = [[13 - len(x), 0], [0, 0]]\n",
        "    x = tf.pad(x, paddings)\n",
        "    return x,y"
      ]
    },
    {
      "cell_type": "code",
      "execution_count": null,
      "metadata": {
        "id": "o3bDm9XNhOSe"
      },
      "outputs": [],
      "source": [
        "train_dataset = make_Dataset(train_data, train_labels)\n",
        "valid_dataset = make_Dataset(val_data, val_labels)\n",
        "\n",
        "train_dataset = train_dataset.map(split_sentence)\n",
        "valid_dataset = valid_dataset.map(split_sentence)\n",
        "\n",
        "train_dataset = train_dataset.map(embeds_sentence)\n",
        "valid_dataset = valid_dataset.map(embeds_sentence)\n",
        "\n",
        "train_dataset = train_dataset.filter(fliter_max_length)\n",
        "valid_dataset = valid_dataset.filter(fliter_max_length)\n",
        "\n",
        "train_dataset = train_dataset.map(padding)\n",
        "valid_dataset = valid_dataset.map(padding)"
      ]
    },
    {
      "cell_type": "code",
      "execution_count": null,
      "metadata": {
        "id": "APtSvfiXhOSe"
      },
      "outputs": [],
      "source": [
        "train_dataset = train_dataset.batch(16,drop_remainder= True)\n",
        "valid_dataset = valid_dataset.batch(16,drop_remainder= True)"
      ]
    },
    {
      "cell_type": "code",
      "execution_count": null,
      "metadata": {
        "id": "SyTy29XvhOSe"
      },
      "outputs": [],
      "source": [
        "print('\\n Trainig element Sepc \\n')\n",
        "print(train_dataset.element_spec)\n",
        "\n",
        "print('\\n Validation element Sepc \\n')\n",
        "print(valid_dataset.element_spec)"
      ]
    },
    {
      "cell_type": "code",
      "execution_count": null,
      "metadata": {
        "id": "txVxKOhWhOSf"
      },
      "outputs": [],
      "source": [
        "train_example = iter(train_dataset.take(1))\n",
        "valid_example = iter(valid_dataset.take(1))\n",
        "\n",
        "english_example_train , german_example_train = next(train_example)\n",
        "english_example_valid , german_example_valid = next(valid_example)"
      ]
    },
    {
      "cell_type": "code",
      "execution_count": null,
      "metadata": {
        "scrolled": true,
        "id": "NSyHlGJehOSf"
      },
      "outputs": [],
      "source": [
        "# English Shape Example\n",
        "print(f'English Training Example Shape: {english_example_train.shape}')\n",
        "print(f'German Validation Example: \\n {german_example_valid}')"
      ]
    },
    {
      "cell_type": "markdown",
      "metadata": {
        "id": "Gtixc01ehOSf"
      },
      "source": [
        "## 3. Create the custom layer\n",
        "You will now create a custom layer to add the learned end token embedding to the encoder model:\n",
        "\n",
        "![Encoder schematic](data/neural_translation_model_encoder.png)"
      ]
    },
    {
      "cell_type": "markdown",
      "metadata": {
        "id": "CEzlhV4LhOSf"
      },
      "source": [
        "You should now build the custom layer.\n",
        "* Using layer subclassing, create a custom layer that takes a batch of English data examples from one of the Datasets, and adds a learned embedded ‘end’ token to the end of each sequence.\n",
        "* This layer should create a TensorFlow Variable (that will be learned during training) that is 128-dimensional (the size of the embedding space). _Hint: you may find it helpful in the call method to use the tf.tile function to replicate the end token embedding across every element in the batch._\n",
        "* Using the Dataset `.take(1)` method, extract a batch of English data examples from the training Dataset and print the shape. Test the custom layer by calling the layer on the English data batch Tensor and print the resulting Tensor shape (the layer should increase the sequence length by one)."
      ]
    },
    {
      "cell_type": "code",
      "execution_count": null,
      "metadata": {
        "id": "0ZvyqaHdhOSf"
      },
      "outputs": [],
      "source": [
        "from tensorflow.keras.layers import Layer\n",
        "\n",
        "class EndTokenLayer(Layer):\n",
        "    def __init__(self , **kwargs):\n",
        "        super(EndTokenLayer, self).__init__(**kwargs)\n",
        "\n",
        "\n",
        "    def build(self,inputs):\n",
        "        self.end_embed = tf.Variable(initial_value=tf.random.uniform(shape=(128,)), trainable=True)\n",
        "\n",
        "\n",
        "    def call(self, inputs):\n",
        "        output = tf.tile(tf.reshape(self.end_embed, shape=(1, 1, tf.shape(self.end_embed)[0])),\n",
        "                         [tf.shape(inputs)[0], 1, 1])\n",
        "\n",
        "        return tf.keras.layers.concatenate([inputs, output], axis=1)\n"
      ]
    },
    {
      "cell_type": "code",
      "execution_count": null,
      "metadata": {
        "id": "gmKbZmc2hOSf"
      },
      "outputs": [],
      "source": [
        "train_example = iter(train_dataset.take(1))\n",
        "\n",
        "english_example_train , german_example_train = next(train_example)"
      ]
    },
    {
      "cell_type": "code",
      "execution_count": null,
      "metadata": {
        "id": "IN0XnVOxhOSf"
      },
      "outputs": [],
      "source": [
        "temp = EndTokenLayer()(english_example_train)\n",
        "\n",
        "print(f'Before Shape: {english_example_train.shape}')\n",
        "print(f'After Shape: {temp.shape}')"
      ]
    },
    {
      "cell_type": "markdown",
      "metadata": {
        "id": "6o_4xOYhhOSf"
      },
      "source": [
        "## 4. Build the encoder network\n",
        "The encoder network follows the schematic diagram above. You should now build the RNN encoder model.\n",
        "* Using the functional API, build the encoder network according to the following spec:\n",
        "    * The model will take a batch of sequences of embedded English words as input, as given by the Dataset objects.\n",
        "    * The next layer in the encoder will be the custom layer you created previously, to add a learned end token embedding to the end of the English sequence.\n",
        "    * This is followed by a Masking layer, with the `mask_value` set to the distinct padding value you used when you padded the English sequences with the Dataset preprocessing above.\n",
        "    * The final layer is an LSTM layer with 512 units, which also returns the hidden and cell states.\n",
        "    * The encoder is a multi-output model. There should be two output Tensors of this model: the hidden state and cell states of the LSTM layer. The output of the LSTM layer is unused.\n",
        "* Using the Dataset `.take(1)` method, extract a batch of English data examples from the training Dataset and test the encoder model by calling it on the English data Tensor, and print the shape of the resulting Tensor outputs.\n",
        "* Print the model summary for the encoder network."
      ]
    },
    {
      "cell_type": "code",
      "execution_count": null,
      "metadata": {
        "id": "W5fYSS1ShOSf"
      },
      "outputs": [],
      "source": [
        "def encoder_network_model(input_shape):\n",
        "\n",
        "    inputs = tf.keras.layers.Input(shape=input_shape)\n",
        "    x = EndTokenLayer()(inputs)\n",
        "    x = tf.keras.layers.Masking(mask_value=0)(x)\n",
        "    output, hidden_state, cell_state  = tf.keras.layers.LSTM(512,return_state=True)(x)\n",
        "\n",
        "    encoder_model = tf.keras.Model(inputs = inputs , outputs = [hidden_state,cell_state])\n",
        "    return encoder_model\n",
        "\n",
        "encode_model = encoder_network_model((13,128))"
      ]
    },
    {
      "cell_type": "code",
      "execution_count": null,
      "metadata": {
        "id": "8PKmdsTshOSf"
      },
      "outputs": [],
      "source": [
        "train_example = iter(train_dataset.take(1))\n",
        "english_example_train , german_example_train = next(train_example)\n",
        "\n",
        "print(f\"Hidden state: {encode_model(english_example_train)[0].shape}\")\n",
        "print(f\"Cell state: {encode_model(english_example_train)[1].shape}\")\n"
      ]
    },
    {
      "cell_type": "code",
      "execution_count": null,
      "metadata": {
        "id": "BjJFMEGbhOSg"
      },
      "outputs": [],
      "source": [
        "encode_model.summary()"
      ]
    },
    {
      "cell_type": "markdown",
      "metadata": {
        "id": "CSk2onnkhOSg"
      },
      "source": [
        "## 5. Build the decoder network\n",
        "The decoder network follows the schematic diagram below.\n",
        "\n",
        "![Decoder schematic](data/neural_translation_model_decoder.png)"
      ]
    },
    {
      "cell_type": "markdown",
      "metadata": {
        "id": "sQgQXwBGhOSg"
      },
      "source": [
        "You should now build the RNN decoder model.\n",
        "* Using Model subclassing, build the decoder network according to the following spec:\n",
        "    * The initializer should create the following layers:\n",
        "        * An Embedding layer with vocabulary size set to the number of unique German tokens, embedding dimension 128, and set to mask zero values in the input.\n",
        "        * An LSTM layer with 512 units, that returns its hidden and cell states, and also returns sequences.\n",
        "        * A Dense layer with number of units equal to the number of unique German tokens, and no activation function.\n",
        "    * The call method should include the usual `inputs` argument, as well as the additional keyword arguments `hidden_state` and `cell_state`. The default value for these keyword arguments should be `None`.\n",
        "    * The call method should pass the inputs through the Embedding layer, and then through the LSTM layer. If the `hidden_state` and `cell_state` arguments are provided, these should be used for the initial state of the LSTM layer. _Hint: use the_ `initial_state` _keyword argument when calling the LSTM layer on its input._\n",
        "    * The call method should pass the LSTM output sequence through the Dense layer, and return the resulting Tensor, along with the hidden and cell states of the LSTM layer.\n",
        "* Using the Dataset `.take(1)` method, extract a batch of English and German data examples from the training Dataset. Test the decoder model by first calling the encoder model on the English data Tensor to get the hidden and cell states, and then call the decoder model on the German data Tensor and hidden and cell states, and print the shape of the resulting decoder Tensor outputs.\n",
        "* Print the model summary for the decoder network."
      ]
    },
    {
      "cell_type": "code",
      "execution_count": null,
      "metadata": {
        "id": "cQbkNCcLhOSg"
      },
      "outputs": [],
      "source": [
        "class Decoder_Network_Model(tf.keras.Model):\n",
        "\n",
        "    def __init__(self, **kwargs):\n",
        "        super(Decoder_Network_Model, self).__init__(**kwargs)\n",
        "\n",
        "\n",
        "        self.unique_vocab_ger = len(tokenizer.index_word) + 1\n",
        "        self.embeded_layer = tf.keras.layers.Embedding(input_dim=self.unique_vocab_ger,output_dim=128, mask_zero = True)\n",
        "        self.lstm_layer = tf.keras.layers.LSTM(512, return_state=True ,return_sequences=True)\n",
        "        self.dense_layer = tf.keras.layers.Dense(self.unique_vocab_ger)\n",
        "\n",
        "\n",
        "\n",
        "    def call(self, inputs, hidden_state = None, cell_state = None):\n",
        "\n",
        "        x = self.embeded_layer(inputs)\n",
        "\n",
        "        if (hidden_state is None) and (cell_state is None):\n",
        "            x, hidden_state_decoder, cell_state_decoder  = self.lstm_layer(x)\n",
        "\n",
        "        else:\n",
        "            x, hidden_state_decoder, cell_state_decoder  = self.lstm_layer(x ,initial_state=[hidden_state, cell_state])\n",
        "\n",
        "\n",
        "        x = self.dense_layer(x)\n",
        "\n",
        "        return x, hidden_state_decoder, cell_state_decoder\n",
        "\n",
        "decode_model = Decoder_Network_Model()"
      ]
    },
    {
      "cell_type": "code",
      "execution_count": null,
      "metadata": {
        "id": "I5MsfFEQhOSg"
      },
      "outputs": [],
      "source": [
        "train_example = iter(train_dataset.take(1))\n",
        "english_example_train , german_example_train = next(train_example)"
      ]
    },
    {
      "cell_type": "code",
      "execution_count": null,
      "metadata": {
        "id": "9OidR11HhOSk"
      },
      "outputs": [],
      "source": [
        "hidden_encoder, cell_encoder = encode_model(english_example_train)\n",
        "output_decoder, hidden_decoder, cell_decoder = decode_model(german_example_train,hidden_encoder,cell_encoder)\n",
        "\n",
        "print(f\"Output Tensor shape: {output_decoder.shape}\")\n",
        "print(f\"Hidden_state Tensor shape: {hidden_decoder.shape}\")\n",
        "print(f\"Cell_State Tensor shape: {cell_decoder.shape}\")\n"
      ]
    },
    {
      "cell_type": "code",
      "execution_count": null,
      "metadata": {
        "id": "ci82QUg6hOSk"
      },
      "outputs": [],
      "source": [
        "decode_model.summary()"
      ]
    },
    {
      "cell_type": "markdown",
      "metadata": {
        "id": "e8Mwz3GHhOSk"
      },
      "source": [
        "## 6. Make a custom training loop\n",
        "You should now write a custom training loop to train your custom neural translation model.\n",
        "* Define a function that takes a Tensor batch of German data (as extracted from the training Dataset), and returns a tuple containing German inputs and outputs for the decoder model (refer to schematic diagram above).\n",
        "* Define a function that computes the forward and backward pass for your translation model. This function should take an English input, German input and German output as arguments, and should do the following:\n",
        "    * Pass the English input into the encoder, to get the hidden and cell states of the encoder LSTM.\n",
        "    * These hidden and cell states are then passed into the decoder, along with the German inputs, which returns a sequence of outputs (the hidden and cell state outputs of the decoder LSTM are unused in this function).\n",
        "    * The loss should then be computed between the decoder outputs and the German output function argument.\n",
        "    * The function returns the loss and gradients with respect to the encoder and decoder’s trainable variables.\n",
        "    * Decorate the function with @tf.function\n",
        "* Define and run a custom training loop for a number of epochs (for you to choose) that does the following:\n",
        "    * Iterates through the training dataset, and creates decoder inputs and outputs from the German sequences.\n",
        "    * Updates the parameters of the translation model using the gradients of the function above and an optimizer object.\n",
        "    * Every epoch, compute the validation loss on a number of batches from the validation and save the epoch training and validation losses.\n",
        "* Plot the learning curves for loss vs epoch for both training and validation sets.\n",
        "\n",
        "_Hint: This model is computationally demanding to train. The quality of the model or length of training is not a factor in the grading rubric. However, to obtain a better model we recommend using the GPU accelerator hardware on Colab._"
      ]
    },
    {
      "cell_type": "code",
      "execution_count": null,
      "metadata": {
        "id": "ikvuHqU6hOSk"
      },
      "outputs": [],
      "source": [
        "def german_inputs_outputs(german_batch):\n",
        "\n",
        "    inputs_decoder = german_batch[:,:-1]\n",
        "    outputs_decoder = german_batch[:,1:]\n",
        "\n",
        "    return (inputs_decoder , outputs_decoder)\n"
      ]
    },
    {
      "cell_type": "code",
      "execution_count": null,
      "metadata": {
        "id": "lMu-LFvAhOSk"
      },
      "outputs": [],
      "source": [
        "loss_obj = tf.keras.losses.SparseCategoricalCrossentropy(from_logits=True)\n",
        "optimizer = tf.keras.optimizers.Adam()"
      ]
    },
    {
      "cell_type": "code",
      "execution_count": null,
      "metadata": {
        "id": "BYITihbzhOSk"
      },
      "outputs": [],
      "source": [
        "@tf.function\n",
        "def loss_gards(english_input, german_input, german_target):\n",
        "\n",
        "    with tf.GradientTape() as tape:\n",
        "        hidden_encoder, cell_encoder = encode_model(english_input)\n",
        "        output_decoder, _, _ = decode_model(german_input,hidden_encoder,cell_encoder)\n",
        "        loss_value = loss_obj(german_target,output_decoder)\n",
        "\n",
        "        trainable_variables = encode_model.trainable_variables + decode_model.trainable_variables\n",
        "        grads = tape.gradient(loss_value,trainable_variables)\n",
        "    return loss_value , grads"
      ]
    },
    {
      "cell_type": "code",
      "execution_count": null,
      "metadata": {
        "id": "jyspD0dWhOSk"
      },
      "outputs": [],
      "source": [
        "num_epochs = 15\n",
        "train_loss_per_epoch = []\n",
        "validation_loss_per_epoch = []\n",
        "\n",
        "for i in range(num_epochs):\n",
        "    loss_batch = []\n",
        "    loss_val_batch = []\n",
        "\n",
        "    # For training\n",
        "    for english, german in train_dataset:\n",
        "        inputs_decoder , outputs_decoder = german_inputs_outputs(german)\n",
        "        loss_value , grads = loss_gards(english,inputs_decoder,outputs_decoder)\n",
        "\n",
        "        # Updating Paramters\n",
        "        optimizer.apply_gradients(zip(grads,encode_model.trainable_variables + decode_model.trainable_variables))\n",
        "\n",
        "\n",
        "        loss_batch += [loss_value]\n",
        "\n",
        "\n",
        "    # for validation\n",
        "    for english_val, german_val in valid_dataset:\n",
        "        inputs_decoder_val , outputs_decoder_val = german_inputs_outputs(german_val)\n",
        "        loss_value_validation , _ = loss_gards(english_val,inputs_decoder_val,outputs_decoder_val)\n",
        "\n",
        "        loss_val_batch += [loss_value_validation]\n",
        "\n",
        "\n",
        "    train_loss_per_epoch += [np.mean(loss_batch)]\n",
        "    validation_loss_per_epoch += [np.mean(loss_val_batch)]\n",
        "\n",
        "\n",
        "    print(f\"Epoch {i}:\\t Loss {train_loss_per_epoch[i]}\\t Val_Loss {validation_loss_per_epoch[i]}\")"
      ]
    },
    {
      "cell_type": "code",
      "execution_count": null,
      "metadata": {
        "id": "6H9Vmy7XhOSl"
      },
      "outputs": [],
      "source": [
        "import matplotlib.pyplot as plt\n",
        "plt.figure(figsize=(15,5))\n",
        "plt.xlabel(\"Epochs\", fontsize=14)\n",
        "plt.ylabel(\"Loss\", fontsize=14)\n",
        "plt.title('Loss vs epochs')\n",
        "plt.plot(train_loss_per_epoch)\n",
        "plt.plot(validation_loss_per_epoch)\n",
        "plt.legend(['Loss','Validation Loss'])\n",
        "plt.show()"
      ]
    },
    {
      "cell_type": "code",
      "execution_count": null,
      "metadata": {
        "id": "O0LCD0IBhOSl"
      },
      "outputs": [],
      "source": []
    },
    {
      "cell_type": "code",
      "execution_count": null,
      "metadata": {
        "id": "bZe1I-JBhOSl"
      },
      "outputs": [],
      "source": []
    },
    {
      "cell_type": "markdown",
      "metadata": {
        "id": "Z0HOFTBNhOSl"
      },
      "source": [
        "## 7. Use the model to translate\n",
        "Now it's time to put your model into practice! You should run your translation for five randomly sampled English sentences from the dataset. For each sentence, the process is as follows:\n",
        "* Preprocess and embed the English sentence according to the model requirements.\n",
        "* Pass the embedded sentence through the encoder to get the encoder hidden and cell states.\n",
        "* Starting with the special  `\"<start>\"` token, use this token and the final encoder hidden and cell states to get the one-step prediction from the decoder, as well as the decoder’s updated hidden and cell states.\n",
        "* Create a loop to get the next step prediction and updated hidden and cell states from the decoder, using the most recent hidden and cell states. Terminate the loop when the `\"<end>\"` token is emitted, or when the sentence has reached a maximum length.\n",
        "* Decode the output token sequence into German text and print the English text and the model's German translation."
      ]
    },
    {
      "cell_type": "code",
      "execution_count": null,
      "metadata": {
        "id": "rGUOZeRkhOSl"
      },
      "outputs": [],
      "source": [
        "num_samples = 5\n",
        "inx = np.random.choice(len(data_examples), num_samples, replace=False)\n"
      ]
    },
    {
      "cell_type": "code",
      "execution_count": null,
      "metadata": {
        "id": "AnrYvD8ihOSl"
      },
      "outputs": [],
      "source": [
        "def process_english(english):\n",
        "  english = tf.strings.split(english, sep = \" \")\n",
        "\n",
        "  english_em = embedding_layer(english)\n",
        "\n",
        "  paddings = [[13 - len(english_em), 0], [0, 0]]\n",
        "  english_em_pad = tf.pad(english_em, paddings)\n",
        "  english_em_pad = tf.expand_dims(english_em_pad, 0)\n",
        "\n",
        "  return english_em_pad\n",
        "\n",
        "\n",
        "\n"
      ]
    },
    {
      "cell_type": "code",
      "execution_count": null,
      "metadata": {
        "id": "B37moZUhhOSl"
      },
      "outputs": [],
      "source": [
        "start_token = tf.Variable([[tokenizer.word_index['<start>']]])\n",
        "end_token = tf.Variable([[tokenizer.word_index['<end>']]])\n",
        "\n",
        "inv_german_index = {value:key for key,value in tokenizer.word_index.items()}\n",
        "\n",
        "english_examples =[data.split('\\t')[0] for data in data_examples]\n",
        "german_examples  =[data.split('\\t')[1] for data in data_examples]\n",
        "\n",
        "\n",
        "count = 0\n",
        "for i in inx:\n",
        "\n",
        "  count +=1\n",
        "\n",
        "  test_english_examples = english_examples[i]\n",
        "  input_english = process_english(test_english_examples)\n",
        "  hidden_state, cell_state = encode_model(input_english) # passing through encoder\n",
        "\n",
        "  seq_german_translation = []\n",
        "  german_translation = []\n",
        "\n",
        "  while True:\n",
        "    output, hidden_state, cell_state= decode_model(start_token,hidden_state,cell_state)\n",
        "    output = tf.squeeze(tf.argmax(output, axis=2)).numpy()\n",
        "    start_token = tf.Variable([[output]])\n",
        "\n",
        "    if tf.Variable([[output]]) == end_token:\n",
        "      break\n",
        "    else:\n",
        "      seq_german_translation += [output]\n",
        "      print(seq_german_translation)\n",
        "\n",
        "\n",
        "  for seq in seq_german_translation:\n",
        "    german_translation.append(inv_german_index[seq])\n",
        "\n",
        "  german_translation = \" \".join(german_translation)\n",
        "  print(f\"Test English Example {count}:\\t {test_english_examples} \")\n",
        "  print(f\"German Translation {count}:\\t {german_translation}\\n\")"
      ]
    }
  ],
  "metadata": {
    "kernelspec": {
      "display_name": "Python 3",
      "name": "python3"
    },
    "language_info": {
      "codemirror_mode": {
        "name": "ipython",
        "version": 3
      },
      "file_extension": ".py",
      "mimetype": "text/x-python",
      "name": "python",
      "nbconvert_exporter": "python",
      "pygments_lexer": "ipython3",
      "version": "3.7.1"
    },
    "colab": {
      "provenance": [],
      "gpuType": "T4",
      "include_colab_link": true
    },
    "accelerator": "GPU"
  },
  "nbformat": 4,
  "nbformat_minor": 0
}